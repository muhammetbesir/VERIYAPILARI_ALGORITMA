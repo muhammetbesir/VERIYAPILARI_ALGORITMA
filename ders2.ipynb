{
  "nbformat": 4,
  "nbformat_minor": 0,
  "metadata": {
    "colab": {
      "provenance": []
    },
    "kernelspec": {
      "name": "python3",
      "display_name": "Python 3"
    },
    "language_info": {
      "name": "python"
    }
  },
  "cells": [
    {
      "cell_type": "code",
      "execution_count": 1,
      "metadata": {
        "colab": {
          "base_uri": "https://localhost:8080/"
        },
        "id": "ATPvfsS1o5V6",
        "outputId": "dc0c770d-3f5c-40c2-e25e-a5f3396a60b3"
      },
      "outputs": [
        {
          "output_type": "stream",
          "name": "stdout",
          "text": [
            "Merhaba, IGU - ISTKA / Ders 2\n"
          ]
        }
      ],
      "source": [
        "print(\"Merhaba, IGU - ISTKA / Ders 2\")\n"
      ]
    },
    {
      "cell_type": "code",
      "source": [
        "import sys\n",
        "print (sys.version)"
      ],
      "metadata": {
        "colab": {
          "base_uri": "https://localhost:8080/"
        },
        "id": "IzT3CGtGqJCf",
        "outputId": "64781c8d-dc0b-4bdf-b477-79d3c4fe7644"
      },
      "execution_count": 2,
      "outputs": [
        {
          "output_type": "stream",
          "name": "stdout",
          "text": [
            "3.10.12 (main, Jul 29 2024, 16:56:48) [GCC 11.4.0]\n"
          ]
        }
      ]
    },
    {
      "cell_type": "code",
      "source": [
        "from google.colab import drive # google colab - drive bağlantısı\n",
        "\n",
        "drive.mount('/content/drive')\n",
        ""
      ],
      "metadata": {
        "colab": {
          "base_uri": "https://localhost:8080/"
        },
        "id": "28n0eXL1qn4H",
        "outputId": "9e6c4c1a-82f8-49d9-aae5-96a584180a7a"
      },
      "execution_count": 3,
      "outputs": [
        {
          "output_type": "stream",
          "name": "stdout",
          "text": [
            "Mounted at /content/drive\n"
          ]
        }
      ]
    },
    {
      "cell_type": "code",
      "source": [
        "import os\n",
        "\n",
        "os.chdir('/content/drive/My Drive/VERIYAPILARI_ISTKA')\n",
        "\n",
        "!pwd # bize kodun çıktısını dosya yolu olarak veren kod blogudur."
      ],
      "metadata": {
        "colab": {
          "base_uri": "https://localhost:8080/"
        },
        "id": "DHd0WliCqzF7",
        "outputId": "22382bee-a073-40d0-eec7-a02f8a536232"
      },
      "execution_count": 4,
      "outputs": [
        {
          "output_type": "stream",
          "name": "stdout",
          "text": [
            "/content/drive/My Drive/VERIYAPILARI_ISTKA\n"
          ]
        }
      ]
    },
    {
      "cell_type": "code",
      "source": [
        "# Geçerli değişken tanımlaması\n",
        "degisken_1 = 10\n",
        "Degisken2 = 20\n",
        "_degisken = 30"
      ],
      "metadata": {
        "id": "93r3wPxPvkLa"
      },
      "execution_count": 5,
      "outputs": []
    },
    {
      "cell_type": "code",
      "source": [
        "# Geçersiz değişken tanımlamaso\n",
        "1degisken = 40\n",
        "degisken-4 = 50"
      ],
      "metadata": {
        "colab": {
          "base_uri": "https://localhost:8080/",
          "height": 106
        },
        "id": "eNPojqGuv-io",
        "outputId": "187d951a-bdf1-4f97-c487-09fecbcf7e41"
      },
      "execution_count": 8,
      "outputs": [
        {
          "output_type": "error",
          "ename": "SyntaxError",
          "evalue": "invalid decimal literal (<ipython-input-8-fcc72be8d927>, line 2)",
          "traceback": [
            "\u001b[0;36m  File \u001b[0;32m\"<ipython-input-8-fcc72be8d927>\"\u001b[0;36m, line \u001b[0;32m2\u001b[0m\n\u001b[0;31m    1degisken = 40\u001b[0m\n\u001b[0m    ^\u001b[0m\n\u001b[0;31mSyntaxError\u001b[0m\u001b[0;31m:\u001b[0m invalid decimal literal\n"
          ]
        }
      ]
    },
    {
      "cell_type": "markdown",
      "source": [
        "burada hatalı ve hatasız kodları görmüş olduk"
      ],
      "metadata": {
        "id": "qlNB7AAxweoY"
      }
    },
    {
      "cell_type": "code",
      "source": [
        "# Değişken Tanımlama İşlemi\n",
        "\n",
        "x = 5\n",
        "y= \"Merhaba Dünya\"\n",
        "\n",
        "print(x)\n",
        "print(y)"
      ],
      "metadata": {
        "colab": {
          "base_uri": "https://localhost:8080/"
        },
        "id": "FdxqxzVKwnEu",
        "outputId": "b2f4ca0a-356a-44bb-f965-e86b0a6103b5"
      },
      "execution_count": 9,
      "outputs": [
        {
          "output_type": "stream",
          "name": "stdout",
          "text": [
            "5\n",
            "Merhaba Dünya\n"
          ]
        }
      ]
    },
    {
      "cell_type": "code",
      "source": [
        "# Integer - Tamsayı tanımlaması\n",
        "\n",
        "a = 10\n",
        "print(type(a))"
      ],
      "metadata": {
        "colab": {
          "base_uri": "https://localhost:8080/"
        },
        "id": "yrlB1wnAxY_r",
        "outputId": "8a5d70f2-1798-406d-bd45-0a838476b974"
      },
      "execution_count": 11,
      "outputs": [
        {
          "output_type": "stream",
          "name": "stdout",
          "text": [
            "<class 'int'>\n"
          ]
        }
      ]
    },
    {
      "cell_type": "code",
      "source": [
        "# Float - Ondalıklı sayı tanımlaması\n",
        "\n",
        "b = 20.5\n",
        "print(type(b))"
      ],
      "metadata": {
        "colab": {
          "base_uri": "https://localhost:8080/"
        },
        "id": "pfqn3Lz9x2dO",
        "outputId": "2747cdf5-d6f4-471e-acdd-3d92d9655ace"
      },
      "execution_count": 12,
      "outputs": [
        {
          "output_type": "stream",
          "name": "stdout",
          "text": [
            "<class 'float'>\n"
          ]
        }
      ]
    },
    {
      "cell_type": "code",
      "source": [
        "# int'ten float'a çevrimin gerçekleştirilmesi\n",
        "x =10\n",
        "y = float(x)\n",
        "print(y, type(y))"
      ],
      "metadata": {
        "colab": {
          "base_uri": "https://localhost:8080/"
        },
        "id": "_-qwWRrqyMRc",
        "outputId": "c1a5795f-ed5e-4c2a-dc68-b1b732b8a23b"
      },
      "execution_count": 13,
      "outputs": [
        {
          "output_type": "stream",
          "name": "stdout",
          "text": [
            "10.0 <class 'float'>\n"
          ]
        }
      ]
    },
    {
      "cell_type": "code",
      "source": [
        "# float'tan int'e çevrimin gerçekleştirilmesi\n",
        "a = 12.34\n",
        "b = int(a)\n",
        "print(b, type(b))"
      ],
      "metadata": {
        "colab": {
          "base_uri": "https://localhost:8080/"
        },
        "id": "omIz7FGTygvJ",
        "outputId": "070bfe51-7277-41bf-8369-76e4d9626eb7"
      },
      "execution_count": 14,
      "outputs": [
        {
          "output_type": "stream",
          "name": "stdout",
          "text": [
            "12 <class 'int'>\n"
          ]
        }
      ]
    },
    {
      "cell_type": "code",
      "source": [
        "# String - Metinsel içerik tanımlaması\n",
        "\n",
        "c = \"Python Programlama\"\n",
        "print(c)\n",
        "print(type(c))"
      ],
      "metadata": {
        "colab": {
          "base_uri": "https://localhost:8080/"
        },
        "id": "5oCU1DgQ6dXM",
        "outputId": "3e6a076a-e048-4d4c-d34f-e3d9ad7052c7"
      },
      "execution_count": 15,
      "outputs": [
        {
          "output_type": "stream",
          "name": "stdout",
          "text": [
            "Python Programlama\n",
            "<class 'str'>\n"
          ]
        }
      ]
    },
    {
      "cell_type": "code",
      "source": [],
      "metadata": {
        "id": "miXDxr9v7mQ3"
      },
      "execution_count": null,
      "outputs": []
    },
    {
      "cell_type": "code",
      "source": [
        "# Boolean (True - False) - Doğru / Yanlış tanımlaması\n",
        "d = True\n",
        "e = False\n",
        "print(d)\n",
        "print(type(e))"
      ],
      "metadata": {
        "colab": {
          "base_uri": "https://localhost:8080/"
        },
        "id": "qZjOsKOJ7pTe",
        "outputId": "d86fa6ad-c744-45e9-bc00-b9439dfd8145"
      },
      "execution_count": 16,
      "outputs": [
        {
          "output_type": "stream",
          "name": "stdout",
          "text": [
            "True\n",
            "<class 'bool'>\n"
          ]
        }
      ]
    },
    {
      "cell_type": "code",
      "source": [
        "# List - liste tanımlaması\n",
        "\n",
        "my_list = [1, 2, 3, 4, 5]\n",
        "print(type(my_list))\n",
        "print(my_list)"
      ],
      "metadata": {
        "colab": {
          "base_uri": "https://localhost:8080/"
        },
        "id": "LRb6l6FX8i2T",
        "outputId": "0df099bd-93c3-4c9e-f513-0469a1d71efb"
      },
      "execution_count": 17,
      "outputs": [
        {
          "output_type": "stream",
          "name": "stdout",
          "text": [
            "<class 'list'>\n",
            "[1, 2, 3, 4, 5]\n"
          ]
        }
      ]
    },
    {
      "cell_type": "code",
      "source": [
        "# Tuple - Demet tanımlaması\n",
        "\n",
        "my_tuple = (1, 2, 3, 4, 5)\n",
        "print(type(my_tuple))\n",
        "print(my_tuple)"
      ],
      "metadata": {
        "colab": {
          "base_uri": "https://localhost:8080/"
        },
        "id": "y0VPQpbT9naO",
        "outputId": "0ff440e4-fd8a-45b3-f818-de6aac265594"
      },
      "execution_count": 18,
      "outputs": [
        {
          "output_type": "stream",
          "name": "stdout",
          "text": [
            "<class 'tuple'>\n",
            "(1, 2, 3, 4, 5)\n"
          ]
        }
      ]
    },
    {
      "cell_type": "code",
      "source": [
        "# Dictionary - Sözlük Örneği -> Öğrencilerin notlarını tutan bir sözlük\n",
        "notlar = {\n",
        "    \"Ali\": 85,\n",
        "    \"Veli\": 90,\n",
        "    \"Ayşe\": 78\n",
        "}\n",
        "\n",
        "notlar[\"Fatma\"] = 92 # Yeni öğrenci ekleme\n",
        "\n",
        "notlar[\"Ali\"] = 88 # Bir öğrencinin notunu güncelleme\n",
        "\n",
        "print(notlar)"
      ],
      "metadata": {
        "colab": {
          "base_uri": "https://localhost:8080/"
        },
        "id": "zGDuc-iwAIpE",
        "outputId": "6fdeb9d9-3a46-4b12-f589-b3d82b820b47"
      },
      "execution_count": 19,
      "outputs": [
        {
          "output_type": "stream",
          "name": "stdout",
          "text": [
            "{'Ali': 88, 'Veli': 90, 'Ayşe': 78, 'Fatma': 92}\n"
          ]
        }
      ]
    },
    {
      "cell_type": "code",
      "source": [
        "print(notlar.keys())   #dict_keys(['isim', 'yas', 'meslek'])\n",
        "print(notlar.values()) #dict_values (['Ahmet',26, 'Mühendis'])\n",
        "print(notlar.items())   # dict_items([('isim', 'Ahmet'), ('yas', 26), ('meslek', 'Mühendis')])"
      ],
      "metadata": {
        "colab": {
          "base_uri": "https://localhost:8080/"
        },
        "id": "8cdhnXuAAbez",
        "outputId": "3a4ff041-1f5b-467c-8158-8b5715758182"
      },
      "execution_count": 20,
      "outputs": [
        {
          "output_type": "stream",
          "name": "stdout",
          "text": [
            "dict_keys(['Ali', 'Veli', 'Ayşe', 'Fatma'])\n",
            "dict_values([88, 90, 78, 92])\n",
            "dict_items([('Ali', 88), ('Veli', 90), ('Ayşe', 78), ('Fatma', 92)])\n"
          ]
        }
      ]
    },
    {
      "cell_type": "code",
      "source": [
        "# Set - Küme Örneği -> Bir yazılım etkinliğine katılan kişilerin oluşturduğu kümeler\n",
        "kodyazanlar = {\"Ahmet\", \"Mehmet\", \"Ayşe\"}\n",
        "kodyazmayanlar = {\"Ayşe\", \"Fatma\", \"Veli\"}\n",
        "\n",
        "# Kafasına Göre Takılan Öğrenciler\n",
        "ortak = kodyazanlar.intersection(kodyazmayanlar)\n",
        "print(\"Kod çalışması yapmayan öğrenci listesi:\", ortak)\n",
        "\n",
        "# Etkinlikte Kod Çalışması Yapmayan Öğrencilerin Tespiti\n",
        "Kod_yazmayan = kodyazmayanlar.difference(kodyazanlar)\n",
        "print(\"Kod çalışması yapmayan öğrenci listesi:\", Kod_yazmayan)\n",
        "\n",
        "# Yazılım Eğitiminin Öğrenci İmza Listesi\n",
        "imza_listesi = kodyazanlar.union(kodyazmayanlar)\n",
        "print(\"Etkinlik katılımcıları:\", imza_listesi)\n",
        ""
      ],
      "metadata": {
        "colab": {
          "base_uri": "https://localhost:8080/"
        },
        "id": "IvVfPg8MCC3W",
        "outputId": "ce8e5e38-711c-4663-d42e-68190e14b15d"
      },
      "execution_count": 27,
      "outputs": [
        {
          "output_type": "stream",
          "name": "stdout",
          "text": [
            "Kod çalışması yapmayan öğrenci listesi: {'Ayşe'}\n",
            "Kod çalışması yapmayan öğrenci listesi: {'Veli', 'Fatma'}\n",
            "Etkinlik katılımcıları: {'Ahmet', 'Fatma', 'Ayşe', 'Mehmet', 'Veli'}\n"
          ]
        }
      ]
    },
    {
      "cell_type": "code",
      "source": [
        "giris = input(\"Bir sayı girin: \")\n",
        "try:\n",
        "  num = float(giris)\n",
        "  print(f\"Girilen sayı: {num}, tipi: {type(num)},\", abs(num))\n",
        "except ValueError:\n",
        "    print(\"Geçersiz veri girdiniz.\")\n"
      ],
      "metadata": {
        "colab": {
          "base_uri": "https://localhost:8080/"
        },
        "id": "LGYbaDgFECih",
        "outputId": "1e7aae46-5e22-4742-db20-99655b800caf"
      },
      "execution_count": 31,
      "outputs": [
        {
          "output_type": "stream",
          "name": "stdout",
          "text": [
            "Bir sayı girin: 5\n",
            "Girilen sayı: 5.0, tipi: <class 'float'>, 5.0\n"
          ]
        }
      ]
    },
    {
      "cell_type": "code",
      "source": [
        " # 0 ile 1 arasında rastgele bir ondalık sayı üretir\n",
        "\n",
        " import random\n",
        "\n",
        " rastgele_float = random.random()\n",
        " print(\"Rastgele Deger:\", rastgele_float)"
      ],
      "metadata": {
        "colab": {
          "base_uri": "https://localhost:8080/"
        },
        "id": "XgSu2nvaFXsd",
        "outputId": "1aa35c35-6d59-4735-8016-0854fe9dcb57"
      },
      "execution_count": 32,
      "outputs": [
        {
          "output_type": "stream",
          "name": "stdout",
          "text": [
            "Rastgele Deger: 0.08084276089622211\n"
          ]
        }
      ]
    },
    {
      "cell_type": "code",
      "source": [
        "# 1 ile 10 arasında (her iki sınır dahil) rastgele bir tam sayı üretir\n",
        "\n",
        "import random\n",
        "\n",
        "rastgele_sayi = random.randint(1, 10)\n",
        "print(\"Rastgele Deger:\", rastgele_sayi)\n",
        ""
      ],
      "metadata": {
        "colab": {
          "base_uri": "https://localhost:8080/"
        },
        "id": "1ARn6NnsGBbE",
        "outputId": "1d3c22be-d7d3-4f11-a0d3-f839f3cd7fe4"
      },
      "execution_count": 33,
      "outputs": [
        {
          "output_type": "stream",
          "name": "stdout",
          "text": [
            "Rastgele Deger: 2\n"
          ]
        }
      ]
    }
  ]
}