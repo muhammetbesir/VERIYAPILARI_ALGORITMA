{
  "nbformat": 4,
  "nbformat_minor": 0,
  "metadata": {
    "colab": {
      "provenance": []
    },
    "kernelspec": {
      "name": "python3",
      "display_name": "Python 3"
    },
    "language_info": {
      "name": "python"
    }
  },
  "cells": [
    {
      "cell_type": "markdown",
      "source": [
        "phyton programlama dilinde print komutu ekrandan kullanıcıya bilgi veren bir koddur.\n",
        "Veri yapilari ve algoritma dersi ilk kodlama ciktisidir. IGU SIBER AKADEMI-19.08.2024"
      ],
      "metadata": {
        "id": "IQq8I1gL67Z8"
      }
    },
    {
      "cell_type": "code",
      "execution_count": 2,
      "metadata": {
        "colab": {
          "base_uri": "https://localhost:8080/"
        },
        "id": "wcyOlUEG2n-D",
        "outputId": "19a4c5e0-3382-4f31-c739-babcf081a572"
      },
      "outputs": [
        {
          "output_type": "stream",
          "name": "stdout",
          "text": [
            "Merhaba, IGU - ISTKA!\n"
          ]
        }
      ],
      "source": [
        "print(\"Merhaba, IGU - ISTKA!\")"
      ]
    },
    {
      "cell_type": "code",
      "source": [
        "import sys\n",
        "print (sys.version)"
      ],
      "metadata": {
        "colab": {
          "base_uri": "https://localhost:8080/"
        },
        "id": "4W8GfNk86AI0",
        "outputId": "823a5ee6-bfdf-426f-eb54-2a076c797f11"
      },
      "execution_count": 5,
      "outputs": [
        {
          "output_type": "stream",
          "name": "stdout",
          "text": [
            "3.10.12 (main, Jul 29 2024, 16:56:48) [GCC 11.4.0]\n"
          ]
        }
      ]
    },
    {
      "cell_type": "markdown",
      "source": [
        "Bugun pyhton ilk ciktisini ogrendim ilk dersim 19.08.2024 pazartesi insallah basaracagim"
      ],
      "metadata": {
        "id": "zmNmYeqb6en1"
      }
    },
    {
      "cell_type": "code",
      "source": [
        "from google.colab import drive\n",
        "drive.mount('/content/drive')"
      ],
      "metadata": {
        "colab": {
          "base_uri": "https://localhost:8080/"
        },
        "id": "iaLR33aN7z7j",
        "outputId": "fcd973a0-dfff-49ce-83ab-77e1804bf7dc"
      },
      "execution_count": 6,
      "outputs": [
        {
          "output_type": "stream",
          "name": "stdout",
          "text": [
            "Mounted at /content/drive\n"
          ]
        }
      ]
    },
    {
      "cell_type": "code",
      "source": [
        "import os\n",
        "os.chdir('/content/drive/My Drive/VERIYAPILARI_ISTKA')\n",
        "\n",
        "!pwd # bize kodun çıktısını dosya yolu olarak veren kod blogudur."
      ],
      "metadata": {
        "colab": {
          "base_uri": "https://localhost:8080/"
        },
        "id": "Sq2UjNkW85vl",
        "outputId": "2fbcfcb1-c2b6-450e-862e-d8f26700a7b6"
      },
      "execution_count": 7,
      "outputs": [
        {
          "output_type": "stream",
          "name": "stdout",
          "text": [
            "/content/drive/My Drive/VERIYAPILARI_ISTKA\n"
          ]
        }
      ]
    }
  ]
}